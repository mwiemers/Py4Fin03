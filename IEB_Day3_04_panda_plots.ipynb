{
 "cells": [
  {
   "cell_type": "markdown",
   "metadata": {},
   "source": [
    "## Plotting with pandas"
   ]
  },
  {
   "cell_type": "markdown",
   "metadata": {},
   "source": [
    "### What you will learn in this session\n",
    "\n",
    "- Use pandas to create quick plots\n",
    "- Customizing pandas plots using matplotlib functions\n",
    "- Customizing pandas plots using the pandas function parameters"
   ]
  },
  {
   "cell_type": "markdown",
   "metadata": {},
   "source": [
    "### Examples from the introduction"
   ]
  },
  {
   "cell_type": "markdown",
   "metadata": {},
   "source": [
    "#### Downloading stock data for multiple stocks"
   ]
  },
  {
   "cell_type": "code",
   "execution_count": 2,
   "metadata": {
    "scrolled": true
   },
   "outputs": [
    {
     "data": {
      "text/html": [
       "<div>\n",
       "<style scoped>\n",
       "    .dataframe tbody tr th:only-of-type {\n",
       "        vertical-align: middle;\n",
       "    }\n",
       "\n",
       "    .dataframe tbody tr th {\n",
       "        vertical-align: top;\n",
       "    }\n",
       "\n",
       "    .dataframe thead tr th {\n",
       "        text-align: left;\n",
       "    }\n",
       "\n",
       "    .dataframe thead tr:last-of-type th {\n",
       "        text-align: right;\n",
       "    }\n",
       "</style>\n",
       "<table border=\"1\" class=\"dataframe\">\n",
       "  <thead>\n",
       "    <tr>\n",
       "      <th>Attributes</th>\n",
       "      <th colspan=\"4\" halign=\"left\">Adj Close</th>\n",
       "      <th colspan=\"4\" halign=\"left\">Close</th>\n",
       "      <th colspan=\"2\" halign=\"left\">High</th>\n",
       "      <th>...</th>\n",
       "      <th colspan=\"2\" halign=\"left\">Low</th>\n",
       "      <th colspan=\"4\" halign=\"left\">Open</th>\n",
       "      <th colspan=\"4\" halign=\"left\">Volume</th>\n",
       "    </tr>\n",
       "    <tr>\n",
       "      <th>Symbols</th>\n",
       "      <th>AZN</th>\n",
       "      <th>PFE</th>\n",
       "      <th>JNJ</th>\n",
       "      <th>NOVN</th>\n",
       "      <th>AZN</th>\n",
       "      <th>PFE</th>\n",
       "      <th>JNJ</th>\n",
       "      <th>NOVN</th>\n",
       "      <th>AZN</th>\n",
       "      <th>PFE</th>\n",
       "      <th>...</th>\n",
       "      <th>JNJ</th>\n",
       "      <th>NOVN</th>\n",
       "      <th>AZN</th>\n",
       "      <th>PFE</th>\n",
       "      <th>JNJ</th>\n",
       "      <th>NOVN</th>\n",
       "      <th>AZN</th>\n",
       "      <th>PFE</th>\n",
       "      <th>JNJ</th>\n",
       "      <th>NOVN</th>\n",
       "    </tr>\n",
       "    <tr>\n",
       "      <th>Date</th>\n",
       "      <th></th>\n",
       "      <th></th>\n",
       "      <th></th>\n",
       "      <th></th>\n",
       "      <th></th>\n",
       "      <th></th>\n",
       "      <th></th>\n",
       "      <th></th>\n",
       "      <th></th>\n",
       "      <th></th>\n",
       "      <th></th>\n",
       "      <th></th>\n",
       "      <th></th>\n",
       "      <th></th>\n",
       "      <th></th>\n",
       "      <th></th>\n",
       "      <th></th>\n",
       "      <th></th>\n",
       "      <th></th>\n",
       "      <th></th>\n",
       "      <th></th>\n",
       "    </tr>\n",
       "  </thead>\n",
       "  <tbody>\n",
       "    <tr>\n",
       "      <th>2020-01-02</th>\n",
       "      <td>48.063030</td>\n",
       "      <td>35.293362</td>\n",
       "      <td>141.226059</td>\n",
       "      <td>3.110</td>\n",
       "      <td>50.389999</td>\n",
       "      <td>37.134724</td>\n",
       "      <td>145.970001</td>\n",
       "      <td>3.110</td>\n",
       "      <td>50.490002</td>\n",
       "      <td>37.333965</td>\n",
       "      <td>...</td>\n",
       "      <td>145.080002</td>\n",
       "      <td>3.060</td>\n",
       "      <td>50.299999</td>\n",
       "      <td>37.286530</td>\n",
       "      <td>145.869995</td>\n",
       "      <td>3.170</td>\n",
       "      <td>3587300.0</td>\n",
       "      <td>16514072.0</td>\n",
       "      <td>5777000.0</td>\n",
       "      <td>1122400.0</td>\n",
       "    </tr>\n",
       "    <tr>\n",
       "      <th>2020-01-03</th>\n",
       "      <td>47.776886</td>\n",
       "      <td>35.104000</td>\n",
       "      <td>139.590973</td>\n",
       "      <td>0.838</td>\n",
       "      <td>50.090000</td>\n",
       "      <td>36.935486</td>\n",
       "      <td>144.279999</td>\n",
       "      <td>0.838</td>\n",
       "      <td>50.380001</td>\n",
       "      <td>37.229603</td>\n",
       "      <td>...</td>\n",
       "      <td>143.000000</td>\n",
       "      <td>0.800</td>\n",
       "      <td>49.880001</td>\n",
       "      <td>36.736244</td>\n",
       "      <td>143.500000</td>\n",
       "      <td>0.850</td>\n",
       "      <td>1208700.0</td>\n",
       "      <td>14922848.0</td>\n",
       "      <td>5752400.0</td>\n",
       "      <td>3419800.0</td>\n",
       "    </tr>\n",
       "    <tr>\n",
       "      <th>2020-01-06</th>\n",
       "      <td>47.576584</td>\n",
       "      <td>35.058918</td>\n",
       "      <td>139.416840</td>\n",
       "      <td>0.820</td>\n",
       "      <td>49.880001</td>\n",
       "      <td>36.888046</td>\n",
       "      <td>144.100006</td>\n",
       "      <td>0.820</td>\n",
       "      <td>50.220001</td>\n",
       "      <td>37.001900</td>\n",
       "      <td>...</td>\n",
       "      <td>142.850006</td>\n",
       "      <td>0.795</td>\n",
       "      <td>50.040001</td>\n",
       "      <td>36.831120</td>\n",
       "      <td>144.000000</td>\n",
       "      <td>0.888</td>\n",
       "      <td>1992300.0</td>\n",
       "      <td>15771951.0</td>\n",
       "      <td>7731300.0</td>\n",
       "      <td>1759500.0</td>\n",
       "    </tr>\n",
       "    <tr>\n",
       "      <th>2020-01-07</th>\n",
       "      <td>47.757809</td>\n",
       "      <td>34.941692</td>\n",
       "      <td>140.268219</td>\n",
       "      <td>0.750</td>\n",
       "      <td>50.070000</td>\n",
       "      <td>36.764706</td>\n",
       "      <td>144.979996</td>\n",
       "      <td>0.750</td>\n",
       "      <td>50.299999</td>\n",
       "      <td>37.125237</td>\n",
       "      <td>...</td>\n",
       "      <td>141.380005</td>\n",
       "      <td>0.735</td>\n",
       "      <td>50.139999</td>\n",
       "      <td>37.115749</td>\n",
       "      <td>144.009995</td>\n",
       "      <td>0.830</td>\n",
       "      <td>1871900.0</td>\n",
       "      <td>20108107.0</td>\n",
       "      <td>7382900.0</td>\n",
       "      <td>2090300.0</td>\n",
       "    </tr>\n",
       "    <tr>\n",
       "      <th>2020-01-08</th>\n",
       "      <td>47.643353</td>\n",
       "      <td>35.221226</td>\n",
       "      <td>140.248886</td>\n",
       "      <td>0.760</td>\n",
       "      <td>49.950001</td>\n",
       "      <td>37.058823</td>\n",
       "      <td>144.960007</td>\n",
       "      <td>0.760</td>\n",
       "      <td>50.169998</td>\n",
       "      <td>37.210625</td>\n",
       "      <td>...</td>\n",
       "      <td>143.699997</td>\n",
       "      <td>0.750</td>\n",
       "      <td>49.869999</td>\n",
       "      <td>36.774193</td>\n",
       "      <td>144.869995</td>\n",
       "      <td>0.790</td>\n",
       "      <td>1869000.0</td>\n",
       "      <td>16403507.0</td>\n",
       "      <td>6605800.0</td>\n",
       "      <td>1070000.0</td>\n",
       "    </tr>\n",
       "  </tbody>\n",
       "</table>\n",
       "<p>5 rows × 24 columns</p>\n",
       "</div>"
      ],
      "text/plain": [
       "Attributes  Adj Close                                    Close             \\\n",
       "Symbols           AZN        PFE         JNJ   NOVN        AZN        PFE   \n",
       "Date                                                                        \n",
       "2020-01-02  48.063030  35.293362  141.226059  3.110  50.389999  37.134724   \n",
       "2020-01-03  47.776886  35.104000  139.590973  0.838  50.090000  36.935486   \n",
       "2020-01-06  47.576584  35.058918  139.416840  0.820  49.880001  36.888046   \n",
       "2020-01-07  47.757809  34.941692  140.268219  0.750  50.070000  36.764706   \n",
       "2020-01-08  47.643353  35.221226  140.248886  0.760  49.950001  37.058823   \n",
       "\n",
       "Attributes                          High             ...         Low         \\\n",
       "Symbols            JNJ   NOVN        AZN        PFE  ...         JNJ   NOVN   \n",
       "Date                                                 ...                      \n",
       "2020-01-02  145.970001  3.110  50.490002  37.333965  ...  145.080002  3.060   \n",
       "2020-01-03  144.279999  0.838  50.380001  37.229603  ...  143.000000  0.800   \n",
       "2020-01-06  144.100006  0.820  50.220001  37.001900  ...  142.850006  0.795   \n",
       "2020-01-07  144.979996  0.750  50.299999  37.125237  ...  141.380005  0.735   \n",
       "2020-01-08  144.960007  0.760  50.169998  37.210625  ...  143.699997  0.750   \n",
       "\n",
       "Attributes       Open                                   Volume              \\\n",
       "Symbols           AZN        PFE         JNJ   NOVN        AZN         PFE   \n",
       "Date                                                                         \n",
       "2020-01-02  50.299999  37.286530  145.869995  3.170  3587300.0  16514072.0   \n",
       "2020-01-03  49.880001  36.736244  143.500000  0.850  1208700.0  14922848.0   \n",
       "2020-01-06  50.040001  36.831120  144.000000  0.888  1992300.0  15771951.0   \n",
       "2020-01-07  50.139999  37.115749  144.009995  0.830  1871900.0  20108107.0   \n",
       "2020-01-08  49.869999  36.774193  144.869995  0.790  1869000.0  16403507.0   \n",
       "\n",
       "Attributes                        \n",
       "Symbols           JNJ       NOVN  \n",
       "Date                              \n",
       "2020-01-02  5777000.0  1122400.0  \n",
       "2020-01-03  5752400.0  3419800.0  \n",
       "2020-01-06  7731300.0  1759500.0  \n",
       "2020-01-07  7382900.0  2090300.0  \n",
       "2020-01-08  6605800.0  1070000.0  \n",
       "\n",
       "[5 rows x 24 columns]"
      ]
     },
     "execution_count": 2,
     "metadata": {},
     "output_type": "execute_result"
    }
   ],
   "source": [
    "import pandas_datareader.data as web\n",
    "import pandas as pd\n",
    "import matplotlib.pyplot as plt\n",
    "\n",
    "tickers = ['AZN', 'PFE', 'JNJ', 'NOVN']\n",
    "\n",
    "big_pharma = web.DataReader(tickers, 'yahoo', start='2020')\n",
    "big_pharma.head()"
   ]
  },
  {
   "cell_type": "markdown",
   "metadata": {},
   "source": [
    "#### Indexing multi-level column dataframes"
   ]
  },
  {
   "cell_type": "code",
   "execution_count": 15,
   "metadata": {},
   "outputs": [
    {
     "data": {
      "text/html": [
       "<div>\n",
       "<style scoped>\n",
       "    .dataframe tbody tr th:only-of-type {\n",
       "        vertical-align: middle;\n",
       "    }\n",
       "\n",
       "    .dataframe tbody tr th {\n",
       "        vertical-align: top;\n",
       "    }\n",
       "\n",
       "    .dataframe thead th {\n",
       "        text-align: right;\n",
       "    }\n",
       "</style>\n",
       "<table border=\"1\" class=\"dataframe\">\n",
       "  <thead>\n",
       "    <tr style=\"text-align: right;\">\n",
       "      <th>Symbols</th>\n",
       "      <th>AZN</th>\n",
       "      <th>PFE</th>\n",
       "      <th>JNJ</th>\n",
       "      <th>NOVN</th>\n",
       "    </tr>\n",
       "    <tr>\n",
       "      <th>Date</th>\n",
       "      <th></th>\n",
       "      <th></th>\n",
       "      <th></th>\n",
       "      <th></th>\n",
       "    </tr>\n",
       "  </thead>\n",
       "  <tbody>\n",
       "    <tr>\n",
       "      <th>2020-01-02</th>\n",
       "      <td>48.063030</td>\n",
       "      <td>35.293362</td>\n",
       "      <td>141.226059</td>\n",
       "      <td>3.110</td>\n",
       "    </tr>\n",
       "    <tr>\n",
       "      <th>2020-01-03</th>\n",
       "      <td>47.776886</td>\n",
       "      <td>35.104000</td>\n",
       "      <td>139.590973</td>\n",
       "      <td>0.838</td>\n",
       "    </tr>\n",
       "    <tr>\n",
       "      <th>2020-01-06</th>\n",
       "      <td>47.576584</td>\n",
       "      <td>35.058918</td>\n",
       "      <td>139.416840</td>\n",
       "      <td>0.820</td>\n",
       "    </tr>\n",
       "    <tr>\n",
       "      <th>2020-01-07</th>\n",
       "      <td>47.757809</td>\n",
       "      <td>34.941692</td>\n",
       "      <td>140.268219</td>\n",
       "      <td>0.750</td>\n",
       "    </tr>\n",
       "    <tr>\n",
       "      <th>2020-01-08</th>\n",
       "      <td>47.643353</td>\n",
       "      <td>35.221226</td>\n",
       "      <td>140.248886</td>\n",
       "      <td>0.760</td>\n",
       "    </tr>\n",
       "  </tbody>\n",
       "</table>\n",
       "</div>"
      ],
      "text/plain": [
       "Symbols           AZN        PFE         JNJ   NOVN\n",
       "Date                                               \n",
       "2020-01-02  48.063030  35.293362  141.226059  3.110\n",
       "2020-01-03  47.776886  35.104000  139.590973  0.838\n",
       "2020-01-06  47.576584  35.058918  139.416840  0.820\n",
       "2020-01-07  47.757809  34.941692  140.268219  0.750\n",
       "2020-01-08  47.643353  35.221226  140.248886  0.760"
      ]
     },
     "execution_count": 15,
     "metadata": {},
     "output_type": "execute_result"
    }
   ],
   "source": [
    "# getting all adjusted close prices\n",
    "big_pharma_adj = big_pharma['Adj Close']\n",
    "\n",
    "big_pharma_adj.head()"
   ]
  },
  {
   "cell_type": "markdown",
   "metadata": {},
   "source": [
    "#### Using the DataFrame.plot() method to plot"
   ]
  },
  {
   "cell_type": "code",
   "execution_count": 16,
   "metadata": {},
   "outputs": [
    {
     "data": {
      "text/plain": [
       "<AxesSubplot:xlabel='Date'>"
      ]
     },
     "execution_count": 16,
     "metadata": {},
     "output_type": "execute_result"
    },
    {
     "data": {
      "image/png": "[encoded data removed]",
      "text/plain": [
       "<Figure size 432x288 with 1 Axes>"
      ]
     },
     "metadata": {
      "needs_background": "light"
     },
     "output_type": "display_data"
    }
   ],
   "source": [
    "# only plotting the AZN column\n",
    "big_pharma_adj.plot(kind='line', y='AZN')"
   ]
  },
  {
   "cell_type": "code",
   "execution_count": 17,
   "metadata": {},
   "outputs": [
    {
     "data": {
      "text/plain": [
       "<AxesSubplot:title={'center':'BIG TECH'}, xlabel='Date'>"
      ]
     },
     "execution_count": 17,
     "metadata": {},
     "output_type": "execute_result"
    },
    {
     "data": {
      "image/png": "[encoded data removed]",
      "text/plain": [
       "<Figure size 432x288 with 1 Axes>"
      ]
     },
     "metadata": {
      "needs_background": "light"
     },
     "output_type": "display_data"
    }
   ],
   "source": [
    "# plotting all columns and setting title\n",
    "big_pharma_adj.plot(title='BIG TECH')"
   ]
  },
  {
   "cell_type": "markdown",
   "metadata": {},
   "source": [
    "#### Using matplotlib functions to change plot elements"
   ]
  },
  {
   "cell_type": "code",
   "execution_count": 11,
   "metadata": {},
   "outputs": [
    {
     "data": {
      "image/png": "[encoded data removed]",
      "text/plain": [
       "<Figure size 432x288 with 1 Axes>"
      ]
     },
     "metadata": {
      "needs_background": "light"
     },
     "output_type": "display_data"
    }
   ],
   "source": [
    "big_pharma_adj.plot()\n",
    "\n",
    "plt.title('BIG PHARMA 2020-2021')\n",
    "plt.show()"
   ]
  },
  {
   "cell_type": "markdown",
   "metadata": {},
   "source": [
    "### Task 1 - download big tech stock and plot with pandas"
   ]
  },
  {
   "cell_type": "markdown",
   "metadata": {},
   "source": [
    "1. Import yfinance, pandas and matplotlib.\n",
    "2. Use the yfinance library to download the stock data for all tickers starting in 2020.\n",
    "3. Select the adjusted close price data for all stocks.\n",
    "4. Use the .plot() method to plot Adj Close data.\n",
    "5. Use the title parameter to set the title to 'BIG TECH 2020-2021'"
   ]
  },
  {
   "cell_type": "code",
   "execution_count": null,
   "metadata": {},
   "outputs": [],
   "source": [
    "# Import yfinance, pandas and matplotlib.\n",
    "\n",
    "\n",
    "\n",
    "# use yfinance to download stock data with tickers list\n",
    "tickers = ['AAPL', 'FB', 'MSFT', 'GOOG', 'AMZN']\n",
    "\n",
    "\n",
    "\n",
    "# Select the adjusted close price data for all stocks.\n",
    "\n",
    "\n",
    "# use .plot() method to plot Adj Close data\n",
    "\n",
    "\n"
   ]
  },
  {
   "cell_type": "markdown",
   "metadata": {},
   "source": [
    "### Task 2 - Customizing the pandas plot"
   ]
  },
  {
   "cell_type": "markdown",
   "metadata": {},
   "source": [
    "You can customize the plot using the `.plot()` method parameters. Just like you can set the title inside the .plot() method with `big_tech_adj.plot(title='BIG TECH 2020-2021')`, you can change the figure size and the x- and y-axis labels.\n",
    "\n",
    "1. Set the figsize to 10 by 10\n",
    "2. Set the y-axis label to 'Adjusted in USD'\n",
    "3. Set the x-axis label to an empty string\n",
    "4. Apply the seaborn style. For this, you will have to use a plt. function"
   ]
  },
  {
   "cell_type": "code",
   "execution_count": null,
   "metadata": {},
   "outputs": [],
   "source": []
  }
 ],
 "metadata": {
  "kernelspec": {
   "display_name": "Python 3",
   "language": "python",
   "name": "python3"
  },
  "language_info": {
   "codemirror_mode": {
    "name": "ipython",
    "version": 3
   },
   "file_extension": ".py",
   "mimetype": "text/x-python",
   "name": "python",
   "nbconvert_exporter": "python",
   "pygments_lexer": "ipython3",
   "version": "3.8.5"
  }
 },
 "nbformat": 4,
 "nbformat_minor": 2
}
