{
 "cells": [
  {
   "cell_type": "markdown",
   "metadata": {},
   "source": [
    "## Accessing stock data with Python"
   ]
  },
  {
   "cell_type": "markdown",
   "metadata": {},
   "source": [
    "### What you will learn in this session\n",
    "\n",
    "- Downloading financial/stock data from yahoo finance using pandas datareader\n",
    "- Downloading real-time stock data using the yfinance library\n",
    "- Getting stock company specific information using the yfinance library"
   ]
  },
  {
   "cell_type": "markdown",
   "metadata": {},
   "source": [
    "### Examples from the intro"
   ]
  },
  {
   "cell_type": "markdown",
   "metadata": {},
   "source": [
    "#### How to install a library in Anaconda.\n",
    "\n",
    "Use the main conda install command and specify the channel name and the name of the library.\n",
    "\n",
    "```\n",
    "conda install -c [channel_name] [library_name]\n",
    "```\n",
    "\n",
    "Below is an example to install the pandas library from the main anaconda channel.\n",
    "\n",
    "```\n",
    "conda install -c anaconda pandas\n",
    "```"
   ]
  },
  {
   "cell_type": "markdown",
   "metadata": {},
   "source": [
    "#### Downloading stock data with pandas-datareader\n",
    "\n",
    "Downloading gamestop stock data from yahoo finance from Dec 2020 till today"
   ]
  },
  {
   "cell_type": "code",
   "execution_count": 1,
   "metadata": {},
   "outputs": [
    {
     "data": {
      "text/html": [
       "<div>\n",
       "<style scoped>\n",
       "    .dataframe tbody tr th:only-of-type {\n",
       "        vertical-align: middle;\n",
       "    }\n",
       "\n",
       "    .dataframe tbody tr th {\n",
       "        vertical-align: top;\n",
       "    }\n",
       "\n",
       "    .dataframe thead th {\n",
       "        text-align: right;\n",
       "    }\n",
       "</style>\n",
       "<table border=\"1\" class=\"dataframe\">\n",
       "  <thead>\n",
       "    <tr style=\"text-align: right;\">\n",
       "      <th></th>\n",
       "      <th>High</th>\n",
       "      <th>Low</th>\n",
       "      <th>Open</th>\n",
       "      <th>Close</th>\n",
       "      <th>Volume</th>\n",
       "      <th>Adj Close</th>\n",
       "    </tr>\n",
       "    <tr>\n",
       "      <th>Date</th>\n",
       "      <th></th>\n",
       "      <th></th>\n",
       "      <th></th>\n",
       "      <th></th>\n",
       "      <th></th>\n",
       "      <th></th>\n",
       "    </tr>\n",
       "  </thead>\n",
       "  <tbody>\n",
       "    <tr>\n",
       "      <th>2020-12-01</th>\n",
       "      <td>17.400000</td>\n",
       "      <td>15.760000</td>\n",
       "      <td>17.110001</td>\n",
       "      <td>15.800000</td>\n",
       "      <td>12653900</td>\n",
       "      <td>15.800000</td>\n",
       "    </tr>\n",
       "    <tr>\n",
       "      <th>2020-12-02</th>\n",
       "      <td>16.680000</td>\n",
       "      <td>15.380000</td>\n",
       "      <td>15.700000</td>\n",
       "      <td>16.580000</td>\n",
       "      <td>7883400</td>\n",
       "      <td>16.580000</td>\n",
       "    </tr>\n",
       "    <tr>\n",
       "      <th>2020-12-03</th>\n",
       "      <td>16.639999</td>\n",
       "      <td>15.870000</td>\n",
       "      <td>16.480000</td>\n",
       "      <td>16.120001</td>\n",
       "      <td>6295000</td>\n",
       "      <td>16.120001</td>\n",
       "    </tr>\n",
       "    <tr>\n",
       "      <th>2020-12-04</th>\n",
       "      <td>17.290001</td>\n",
       "      <td>16.260000</td>\n",
       "      <td>16.299999</td>\n",
       "      <td>16.900000</td>\n",
       "      <td>8972700</td>\n",
       "      <td>16.900000</td>\n",
       "    </tr>\n",
       "    <tr>\n",
       "      <th>2020-12-07</th>\n",
       "      <td>17.500000</td>\n",
       "      <td>16.219999</td>\n",
       "      <td>17.000000</td>\n",
       "      <td>16.350000</td>\n",
       "      <td>7386300</td>\n",
       "      <td>16.350000</td>\n",
       "    </tr>\n",
       "    <tr>\n",
       "      <th>...</th>\n",
       "      <td>...</td>\n",
       "      <td>...</td>\n",
       "      <td>...</td>\n",
       "      <td>...</td>\n",
       "      <td>...</td>\n",
       "      <td>...</td>\n",
       "    </tr>\n",
       "    <tr>\n",
       "      <th>2021-05-03</th>\n",
       "      <td>177.490005</td>\n",
       "      <td>159.610001</td>\n",
       "      <td>177.490005</td>\n",
       "      <td>162.199997</td>\n",
       "      <td>5261000</td>\n",
       "      <td>162.199997</td>\n",
       "    </tr>\n",
       "    <tr>\n",
       "      <th>2021-05-04</th>\n",
       "      <td>161.490005</td>\n",
       "      <td>151.800003</td>\n",
       "      <td>159.000000</td>\n",
       "      <td>160.729996</td>\n",
       "      <td>4007500</td>\n",
       "      <td>160.729996</td>\n",
       "    </tr>\n",
       "    <tr>\n",
       "      <th>2021-05-05</th>\n",
       "      <td>165.500000</td>\n",
       "      <td>158.330002</td>\n",
       "      <td>161.830002</td>\n",
       "      <td>159.479996</td>\n",
       "      <td>1789200</td>\n",
       "      <td>159.479996</td>\n",
       "    </tr>\n",
       "    <tr>\n",
       "      <th>2021-05-06</th>\n",
       "      <td>164.720001</td>\n",
       "      <td>155.600006</td>\n",
       "      <td>160.860001</td>\n",
       "      <td>161.009995</td>\n",
       "      <td>2942800</td>\n",
       "      <td>161.009995</td>\n",
       "    </tr>\n",
       "    <tr>\n",
       "      <th>2021-05-07</th>\n",
       "      <td>167.410004</td>\n",
       "      <td>157.500000</td>\n",
       "      <td>160.110001</td>\n",
       "      <td>161.110001</td>\n",
       "      <td>2930200</td>\n",
       "      <td>161.110001</td>\n",
       "    </tr>\n",
       "  </tbody>\n",
       "</table>\n",
       "<p>109 rows × 6 columns</p>\n",
       "</div>"
      ],
      "text/plain": [
       "                  High         Low        Open       Close    Volume  \\\n",
       "Date                                                                   \n",
       "2020-12-01   17.400000   15.760000   17.110001   15.800000  12653900   \n",
       "2020-12-02   16.680000   15.380000   15.700000   16.580000   7883400   \n",
       "2020-12-03   16.639999   15.870000   16.480000   16.120001   6295000   \n",
       "2020-12-04   17.290001   16.260000   16.299999   16.900000   8972700   \n",
       "2020-12-07   17.500000   16.219999   17.000000   16.350000   7386300   \n",
       "...                ...         ...         ...         ...       ...   \n",
       "2021-05-03  177.490005  159.610001  177.490005  162.199997   5261000   \n",
       "2021-05-04  161.490005  151.800003  159.000000  160.729996   4007500   \n",
       "2021-05-05  165.500000  158.330002  161.830002  159.479996   1789200   \n",
       "2021-05-06  164.720001  155.600006  160.860001  161.009995   2942800   \n",
       "2021-05-07  167.410004  157.500000  160.110001  161.110001   2930200   \n",
       "\n",
       "             Adj Close  \n",
       "Date                    \n",
       "2020-12-01   15.800000  \n",
       "2020-12-02   16.580000  \n",
       "2020-12-03   16.120001  \n",
       "2020-12-04   16.900000  \n",
       "2020-12-07   16.350000  \n",
       "...                ...  \n",
       "2021-05-03  162.199997  \n",
       "2021-05-04  160.729996  \n",
       "2021-05-05  159.479996  \n",
       "2021-05-06  161.009995  \n",
       "2021-05-07  161.110001  \n",
       "\n",
       "[109 rows x 6 columns]"
      ]
     },
     "execution_count": 1,
     "metadata": {},
     "output_type": "execute_result"
    }
   ],
   "source": [
    "import pandas_datareader.data as web\n",
    "\n",
    "web.DataReader('GME', 'yahoo', start='12-01-2020')"
   ]
  },
  {
   "cell_type": "markdown",
   "metadata": {},
   "source": [
    "#### Downloading stock data with the yfinance library\n",
    "\n",
    "Downloading gamestop stock data from yahoo finance from Dec 2020 till today"
   ]
  },
  {
   "cell_type": "code",
   "execution_count": 2,
   "metadata": {},
   "outputs": [
    {
     "name": "stdout",
     "output_type": "stream",
     "text": [
      "[*********************100%***********************]  1 of 1 completed\n"
     ]
    },
    {
     "data": {
      "text/html": [
       "<div>\n",
       "<style scoped>\n",
       "    .dataframe tbody tr th:only-of-type {\n",
       "        vertical-align: middle;\n",
       "    }\n",
       "\n",
       "    .dataframe tbody tr th {\n",
       "        vertical-align: top;\n",
       "    }\n",
       "\n",
       "    .dataframe thead th {\n",
       "        text-align: right;\n",
       "    }\n",
       "</style>\n",
       "<table border=\"1\" class=\"dataframe\">\n",
       "  <thead>\n",
       "    <tr style=\"text-align: right;\">\n",
       "      <th></th>\n",
       "      <th>Open</th>\n",
       "      <th>High</th>\n",
       "      <th>Low</th>\n",
       "      <th>Close</th>\n",
       "      <th>Adj Close</th>\n",
       "      <th>Volume</th>\n",
       "    </tr>\n",
       "    <tr>\n",
       "      <th>Date</th>\n",
       "      <th></th>\n",
       "      <th></th>\n",
       "      <th></th>\n",
       "      <th></th>\n",
       "      <th></th>\n",
       "      <th></th>\n",
       "    </tr>\n",
       "  </thead>\n",
       "  <tbody>\n",
       "    <tr>\n",
       "      <th>2020-12-01</th>\n",
       "      <td>17.110001</td>\n",
       "      <td>17.400000</td>\n",
       "      <td>15.760000</td>\n",
       "      <td>15.800000</td>\n",
       "      <td>15.800000</td>\n",
       "      <td>12653900</td>\n",
       "    </tr>\n",
       "    <tr>\n",
       "      <th>2020-12-02</th>\n",
       "      <td>15.700000</td>\n",
       "      <td>16.680000</td>\n",
       "      <td>15.380000</td>\n",
       "      <td>16.580000</td>\n",
       "      <td>16.580000</td>\n",
       "      <td>7883400</td>\n",
       "    </tr>\n",
       "    <tr>\n",
       "      <th>2020-12-03</th>\n",
       "      <td>16.480000</td>\n",
       "      <td>16.639999</td>\n",
       "      <td>15.870000</td>\n",
       "      <td>16.120001</td>\n",
       "      <td>16.120001</td>\n",
       "      <td>6295000</td>\n",
       "    </tr>\n",
       "    <tr>\n",
       "      <th>2020-12-04</th>\n",
       "      <td>16.299999</td>\n",
       "      <td>17.290001</td>\n",
       "      <td>16.260000</td>\n",
       "      <td>16.900000</td>\n",
       "      <td>16.900000</td>\n",
       "      <td>8972700</td>\n",
       "    </tr>\n",
       "    <tr>\n",
       "      <th>2020-12-07</th>\n",
       "      <td>17.000000</td>\n",
       "      <td>17.500000</td>\n",
       "      <td>16.219999</td>\n",
       "      <td>16.350000</td>\n",
       "      <td>16.350000</td>\n",
       "      <td>7386300</td>\n",
       "    </tr>\n",
       "    <tr>\n",
       "      <th>...</th>\n",
       "      <td>...</td>\n",
       "      <td>...</td>\n",
       "      <td>...</td>\n",
       "      <td>...</td>\n",
       "      <td>...</td>\n",
       "      <td>...</td>\n",
       "    </tr>\n",
       "    <tr>\n",
       "      <th>2021-05-03</th>\n",
       "      <td>177.490005</td>\n",
       "      <td>177.490005</td>\n",
       "      <td>159.610001</td>\n",
       "      <td>162.199997</td>\n",
       "      <td>162.199997</td>\n",
       "      <td>5261000</td>\n",
       "    </tr>\n",
       "    <tr>\n",
       "      <th>2021-05-04</th>\n",
       "      <td>159.000000</td>\n",
       "      <td>161.490005</td>\n",
       "      <td>151.800003</td>\n",
       "      <td>160.729996</td>\n",
       "      <td>160.729996</td>\n",
       "      <td>4007500</td>\n",
       "    </tr>\n",
       "    <tr>\n",
       "      <th>2021-05-05</th>\n",
       "      <td>161.830002</td>\n",
       "      <td>165.500000</td>\n",
       "      <td>158.330002</td>\n",
       "      <td>159.479996</td>\n",
       "      <td>159.479996</td>\n",
       "      <td>1789200</td>\n",
       "    </tr>\n",
       "    <tr>\n",
       "      <th>2021-05-06</th>\n",
       "      <td>160.860001</td>\n",
       "      <td>164.720001</td>\n",
       "      <td>155.600006</td>\n",
       "      <td>161.009995</td>\n",
       "      <td>161.009995</td>\n",
       "      <td>2942800</td>\n",
       "    </tr>\n",
       "    <tr>\n",
       "      <th>2021-05-07</th>\n",
       "      <td>160.110001</td>\n",
       "      <td>167.410004</td>\n",
       "      <td>157.500000</td>\n",
       "      <td>161.110001</td>\n",
       "      <td>161.110001</td>\n",
       "      <td>2930200</td>\n",
       "    </tr>\n",
       "  </tbody>\n",
       "</table>\n",
       "<p>109 rows × 6 columns</p>\n",
       "</div>"
      ],
      "text/plain": [
       "                  Open        High         Low       Close   Adj Close  \\\n",
       "Date                                                                     \n",
       "2020-12-01   17.110001   17.400000   15.760000   15.800000   15.800000   \n",
       "2020-12-02   15.700000   16.680000   15.380000   16.580000   16.580000   \n",
       "2020-12-03   16.480000   16.639999   15.870000   16.120001   16.120001   \n",
       "2020-12-04   16.299999   17.290001   16.260000   16.900000   16.900000   \n",
       "2020-12-07   17.000000   17.500000   16.219999   16.350000   16.350000   \n",
       "...                ...         ...         ...         ...         ...   \n",
       "2021-05-03  177.490005  177.490005  159.610001  162.199997  162.199997   \n",
       "2021-05-04  159.000000  161.490005  151.800003  160.729996  160.729996   \n",
       "2021-05-05  161.830002  165.500000  158.330002  159.479996  159.479996   \n",
       "2021-05-06  160.860001  164.720001  155.600006  161.009995  161.009995   \n",
       "2021-05-07  160.110001  167.410004  157.500000  161.110001  161.110001   \n",
       "\n",
       "              Volume  \n",
       "Date                  \n",
       "2020-12-01  12653900  \n",
       "2020-12-02   7883400  \n",
       "2020-12-03   6295000  \n",
       "2020-12-04   8972700  \n",
       "2020-12-07   7386300  \n",
       "...              ...  \n",
       "2021-05-03   5261000  \n",
       "2021-05-04   4007500  \n",
       "2021-05-05   1789200  \n",
       "2021-05-06   2942800  \n",
       "2021-05-07   2930200  \n",
       "\n",
       "[109 rows x 6 columns]"
      ]
     },
     "execution_count": 2,
     "metadata": {},
     "output_type": "execute_result"
    }
   ],
   "source": [
    "import yfinance as yf\n",
    "\n",
    "yf.download('GME', start='2020-12-01')\n"
   ]
  },
  {
   "cell_type": "markdown",
   "metadata": {},
   "source": [
    "Getting data at specific intervals. In the example every hour for today."
   ]
  },
  {
   "cell_type": "code",
   "execution_count": 6,
   "metadata": {},
   "outputs": [
    {
     "name": "stdout",
     "output_type": "stream",
     "text": [
      "[*********************100%***********************]  1 of 1 completed\n"
     ]
    },
    {
     "data": {
      "text/html": [
       "<div>\n",
       "<style scoped>\n",
       "    .dataframe tbody tr th:only-of-type {\n",
       "        vertical-align: middle;\n",
       "    }\n",
       "\n",
       "    .dataframe tbody tr th {\n",
       "        vertical-align: top;\n",
       "    }\n",
       "\n",
       "    .dataframe thead th {\n",
       "        text-align: right;\n",
       "    }\n",
       "</style>\n",
       "<table border=\"1\" class=\"dataframe\">\n",
       "  <thead>\n",
       "    <tr style=\"text-align: right;\">\n",
       "      <th></th>\n",
       "      <th>Open</th>\n",
       "      <th>High</th>\n",
       "      <th>Low</th>\n",
       "      <th>Close</th>\n",
       "      <th>Adj Close</th>\n",
       "      <th>Volume</th>\n",
       "    </tr>\n",
       "    <tr>\n",
       "      <th>Datetime</th>\n",
       "      <th></th>\n",
       "      <th></th>\n",
       "      <th></th>\n",
       "      <th></th>\n",
       "      <th></th>\n",
       "      <th></th>\n",
       "    </tr>\n",
       "  </thead>\n",
       "  <tbody>\n",
       "    <tr>\n",
       "      <th>2021-05-10 08:00:00+01:00</th>\n",
       "      <td>7690.0</td>\n",
       "      <td>7718.000000</td>\n",
       "      <td>7668.0</td>\n",
       "      <td>7700.249023</td>\n",
       "      <td>7700.249023</td>\n",
       "      <td>225357</td>\n",
       "    </tr>\n",
       "    <tr>\n",
       "      <th>2021-05-10 09:00:00+01:00</th>\n",
       "      <td>7701.0</td>\n",
       "      <td>7725.000000</td>\n",
       "      <td>7701.0</td>\n",
       "      <td>7705.000000</td>\n",
       "      <td>7705.000000</td>\n",
       "      <td>140263</td>\n",
       "    </tr>\n",
       "    <tr>\n",
       "      <th>2021-05-10 10:00:00+01:00</th>\n",
       "      <td>7704.0</td>\n",
       "      <td>7714.000000</td>\n",
       "      <td>7697.0</td>\n",
       "      <td>7703.000000</td>\n",
       "      <td>7703.000000</td>\n",
       "      <td>77950</td>\n",
       "    </tr>\n",
       "    <tr>\n",
       "      <th>2021-05-10 11:00:00+01:00</th>\n",
       "      <td>7701.0</td>\n",
       "      <td>7716.000000</td>\n",
       "      <td>7697.0</td>\n",
       "      <td>7704.000000</td>\n",
       "      <td>7704.000000</td>\n",
       "      <td>70100</td>\n",
       "    </tr>\n",
       "    <tr>\n",
       "      <th>2021-05-10 12:00:00+01:00</th>\n",
       "      <td>7703.0</td>\n",
       "      <td>7722.000000</td>\n",
       "      <td>7691.0</td>\n",
       "      <td>7722.000000</td>\n",
       "      <td>7722.000000</td>\n",
       "      <td>72757</td>\n",
       "    </tr>\n",
       "    <tr>\n",
       "      <th>2021-05-10 13:00:00+01:00</th>\n",
       "      <td>7720.0</td>\n",
       "      <td>7724.500977</td>\n",
       "      <td>7710.0</td>\n",
       "      <td>7719.000000</td>\n",
       "      <td>7719.000000</td>\n",
       "      <td>38366</td>\n",
       "    </tr>\n",
       "    <tr>\n",
       "      <th>2021-05-10 13:23:10+01:00</th>\n",
       "      <td>7718.0</td>\n",
       "      <td>7718.000000</td>\n",
       "      <td>7718.0</td>\n",
       "      <td>7718.000000</td>\n",
       "      <td>7718.000000</td>\n",
       "      <td>0</td>\n",
       "    </tr>\n",
       "  </tbody>\n",
       "</table>\n",
       "</div>"
      ],
      "text/plain": [
       "                             Open         High     Low        Close  \\\n",
       "Datetime                                                              \n",
       "2021-05-10 08:00:00+01:00  7690.0  7718.000000  7668.0  7700.249023   \n",
       "2021-05-10 09:00:00+01:00  7701.0  7725.000000  7701.0  7705.000000   \n",
       "2021-05-10 10:00:00+01:00  7704.0  7714.000000  7697.0  7703.000000   \n",
       "2021-05-10 11:00:00+01:00  7701.0  7716.000000  7697.0  7704.000000   \n",
       "2021-05-10 12:00:00+01:00  7703.0  7722.000000  7691.0  7722.000000   \n",
       "2021-05-10 13:00:00+01:00  7720.0  7724.500977  7710.0  7719.000000   \n",
       "2021-05-10 13:23:10+01:00  7718.0  7718.000000  7718.0  7718.000000   \n",
       "\n",
       "                             Adj Close  Volume  \n",
       "Datetime                                        \n",
       "2021-05-10 08:00:00+01:00  7700.249023  225357  \n",
       "2021-05-10 09:00:00+01:00  7705.000000  140263  \n",
       "2021-05-10 10:00:00+01:00  7703.000000   77950  \n",
       "2021-05-10 11:00:00+01:00  7704.000000   70100  \n",
       "2021-05-10 12:00:00+01:00  7722.000000   72757  \n",
       "2021-05-10 13:00:00+01:00  7719.000000   38366  \n",
       "2021-05-10 13:23:10+01:00  7718.000000       0  "
      ]
     },
     "execution_count": 6,
     "metadata": {},
     "output_type": "execute_result"
    }
   ],
   "source": [
    "yf.download('AZN.L', interval='60m', period='1d')"
   ]
  },
  {
   "cell_type": "markdown",
   "metadata": {},
   "source": [
    "---"
   ]
  },
  {
   "cell_type": "markdown",
   "metadata": {},
   "source": [
    "### Task 1: Import the stock data from Apple and Amazon"
   ]
  },
  {
   "cell_type": "markdown",
   "metadata": {},
   "source": [
    "1. Import the data module from the pandas-datareader library under the alias web. Also import pandas.\n",
    "2. Search for the ticker for Apple and Amazon on https://uk.finance.yahoo.com/.\n",
    "\n",
    "&nbsp;\n",
    "\n",
    "<img src=\"https://www.dropbox.com/s/ggjn22cr2vhru8q/yahoo_finance.png?raw=1\" width=500px>\n",
    "\n",
    "&nbsp;\n",
    "\n",
    "3. Download the data from Jan 2020 till today for both Apple and Amazon and store them in separate dataframes.\n",
    "4. Print the first and last five rows of both dataframes to check that the data has been downloaded correctly."
   ]
  },
  {
   "cell_type": "code",
   "execution_count": 8,
   "metadata": {},
   "outputs": [],
   "source": [
    "# import pandas\n"
   ]
  },
  {
   "cell_type": "code",
   "execution_count": null,
   "metadata": {},
   "outputs": [],
   "source": [
    "# import the data module from the pandas-datareader library under the alias web\n"
   ]
  },
  {
   "cell_type": "code",
   "execution_count": 9,
   "metadata": {},
   "outputs": [],
   "source": [
    "# download the stock data from Amazon and Apple from Jan 2020\n"
   ]
  },
  {
   "cell_type": "code",
   "execution_count": 1,
   "metadata": {},
   "outputs": [],
   "source": [
    "# print the head and tail from both dataframes\n"
   ]
  },
  {
   "cell_type": "markdown",
   "metadata": {},
   "source": [
    "### Task 2: Exporting a dataframe to a csv file"
   ]
  },
  {
   "cell_type": "markdown",
   "metadata": {},
   "source": [
    "1. Search online to find out how to export a pandas dataframe to a csv file. \n",
    "2. Export both dataframes to a csv file.\n",
    "3. Check the folder where this jupyter notebook is located on your computer. The two csv files should appear in the same folder."
   ]
  },
  {
   "cell_type": "code",
   "execution_count": 14,
   "metadata": {},
   "outputs": [],
   "source": [
    "# export the amazon dataframe as a csv\n",
    "\n",
    "# export the apple dataframe as a csv\n"
   ]
  },
  {
   "cell_type": "markdown",
   "metadata": {},
   "source": [
    "### Task 3: Getting real-time data with the yfinance library"
   ]
  },
  {
   "cell_type": "markdown",
   "metadata": {},
   "source": [
    "1. Import the yfinance library under the alias yf.\n",
    "2. Get the latest data for both amazon and apple from the last two hours at 1 min resolution"
   ]
  },
  {
   "cell_type": "code",
   "execution_count": 1,
   "metadata": {},
   "outputs": [],
   "source": [
    "# import yfinance under alias yf\n"
   ]
  },
  {
   "cell_type": "code",
   "execution_count": 3,
   "metadata": {},
   "outputs": [],
   "source": [
    "# get the latest data for amazon from the last two hours at 1 min resolution\n"
   ]
  },
  {
   "cell_type": "code",
   "execution_count": 2,
   "metadata": {},
   "outputs": [],
   "source": [
    "# get the latest data for apple from the last two hours at 1 min resolution\n"
   ]
  },
  {
   "cell_type": "markdown",
   "metadata": {},
   "source": [
    "### Bonus task: Getting ticker info "
   ]
  },
  {
   "cell_type": "markdown",
   "metadata": {},
   "source": [
    "With the Ticker module from the yfinance library, you can get lots of ticker specific info on the business, historical stock data including dividens and stock splits, and major holders. The ticker is a specific object where the stock data like dividends, earnings etc are stored as attributes. You can access these attributes as in the example below.\n",
    "\n",
    "```python\n",
    "amzn_ticker = yf.Ticker('AMZN')\n",
    "amzn_ticker.earnings\n",
    "```\n",
    "\n",
    "The info is a dictionary and is itself one of the attributes of the ticker object. See below an example of how to get the info from the ticker and how to select values from the info dictionary.\n",
    "\n",
    "```python\n",
    "amzn_info = amzn_ticker.info\n",
    "amzn_info['sector']\n",
    "```\n"
   ]
  },
  {
   "cell_type": "markdown",
   "metadata": {},
   "source": [
    "1. Download the stock data for Facebook using the Ticker() object and assign to `fb_ticker`.\n",
    "2. Get the stock info and assign to the variable `fb_info`.\n",
    "3. Print the type of `fb_info` and `fb_ticker`.\n",
    "4. Print the institutional holders, which is one of the attributes of the ticker. Have a look at the [yfinance website](https://pypi.org/project/yfinance/) for an example.\n",
    "5. Use the key 'longBusinessSummary' to print the business summary from fb_info.\n",
    "6. Have a look at the [on the yfinance website](https://pypi.org/project/yfinance/) to find out about the attributes that are accessible from the ticker. You will notice that for some attributes there are no values. That is because the Python code from the yfinance library hasn't yet been updated to take into account any recent changes on the yahoo finance website.\n"
   ]
  },
  {
   "cell_type": "code",
   "execution_count": 4,
   "metadata": {},
   "outputs": [],
   "source": [
    "# Download the stock data for Facebook using the Ticker() object and assign to fb_ticker.\n"
   ]
  },
  {
   "cell_type": "code",
   "execution_count": 5,
   "metadata": {},
   "outputs": [],
   "source": [
    "# Get the stock info and assign to the variable fb_info.\n"
   ]
  },
  {
   "cell_type": "code",
   "execution_count": 20,
   "metadata": {},
   "outputs": [],
   "source": [
    "# Print the type of fb_info and fb_ticker.\n"
   ]
  },
  {
   "cell_type": "code",
   "execution_count": 21,
   "metadata": {},
   "outputs": [],
   "source": [
    "# Print the institutional holders, which is one of the attributes of the ticker.\n"
   ]
  },
  {
   "cell_type": "code",
   "execution_count": 22,
   "metadata": {},
   "outputs": [],
   "source": [
    "# Use the key 'longBusinessSummary' to print the business summary from fb_info.\n"
   ]
  }
 ],
 "metadata": {
  "kernelspec": {
   "display_name": "Python 3",
   "language": "python",
   "name": "python3"
  },
  "language_info": {
   "codemirror_mode": {
    "name": "ipython",
    "version": 3
   },
   "file_extension": ".py",
   "mimetype": "text/x-python",
   "name": "python",
   "nbconvert_exporter": "python",
   "pygments_lexer": "ipython3",
   "version": "3.8.5"
  }
 },
 "nbformat": 4,
 "nbformat_minor": 2
}
